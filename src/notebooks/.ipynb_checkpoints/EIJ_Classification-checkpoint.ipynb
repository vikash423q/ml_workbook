{
 "cells": [
  {
   "cell_type": "code",
   "execution_count": null,
   "metadata": {
    "colab": {
     "base_uri": "https://localhost:8080/"
    },
    "id": "-WIb9a-dfPZB",
    "outputId": "abc4fde9-0435-4b9e-af9e-82d17c24bc0a"
   },
   "outputs": [
    {
     "name": "stdout",
     "output_type": "stream",
     "text": [
      "True\n"
     ]
    }
   ],
   "source": [
    "import tensorflow as tf\n",
    "import numpy as np\n",
    "\n",
    "from sklearn.model_selection import train_test_split\n",
    "print(tf.test.is_built_with_cuda())"
   ]
  },
  {
   "cell_type": "code",
   "execution_count": null,
   "metadata": {
    "id": "XRaKqo6n_8Rx"
   },
   "outputs": [],
   "source": [
    "import matplotlib\n",
    "import matplotlib.pyplot as plt\n",
    "%matplotlib inline\n",
    "\n",
    "\n",
    "def plot(args, labels, x_label: str = None, y_label: str = None, tag: str = None, path: str = '.', show=True):\n",
    "    for arg, label in zip(args, labels):\n",
    "        epochs = [i+1 for i in range(len(arg))]\n",
    "        plt.plot(epochs, arg, label=label)\n",
    "\n",
    "    if y_label:\n",
    "        plt.ylabel(y_label)\n",
    "    if x_label:\n",
    "        plt.xlabel(x_label)\n",
    "\n",
    "    if tag:\n",
    "        plt.title(tag)\n",
    "\n",
    "    plt.legend()\n",
    "    if path:\n",
    "        plt.savefig(path)\n",
    "    if show:\n",
    "      plt.show()\n",
    "    else:\n",
    "      plt.clf()"
   ]
  },
  {
   "cell_type": "code",
   "execution_count": null,
   "metadata": {
    "id": "CYdyKzJbgJ0-"
   },
   "outputs": [],
   "source": [
    "import os\n",
    "\n",
    "def load_train_data():\n",
    "  data = None\n",
    "  with open('training_data/splice.data') as f:\n",
    "    data = f.readlines()\n",
    "\n",
    "  data_tuple = [(d.split(',')[0], d.split(',')[-1].strip()) for d in data]\n",
    "  x = np.array([val[1] for val in data_tuple])\n",
    "  y = np.array([val[0] for val in data_tuple])\n",
    "  return x, y"
   ]
  },
  {
   "cell_type": "code",
   "execution_count": null,
   "metadata": {
    "id": "RCcMkXOVn_gY"
   },
   "outputs": [],
   "source": [
    "x, y = load_train_data()"
   ]
  },
  {
   "cell_type": "code",
   "execution_count": null,
   "metadata": {
    "colab": {
     "base_uri": "https://localhost:8080/"
    },
    "id": "mAfJ4BGxhoE7",
    "outputId": "5d05eef9-333f-4078-a947-f832f27f76fe"
   },
   "outputs": [
    {
     "name": "stdout",
     "output_type": "stream",
     "text": [
      "A -> [1. 0. 0. 0.]\n",
      "G -> [0. 1. 0. 0.]\n",
      "C -> [0. 0. 1. 0.]\n",
      "T -> [0. 0. 0. 1.]\n",
      "D -> [1. 1. 0. 1.]\n",
      "S -> [0. 1. 1. 0.]\n",
      "R -> [1. 1. 0. 0.]\n",
      "N -> [1. 1. 1. 1.]\n",
      "symbols: ['A', 'G', 'C', 'T', 'D', 'S', 'R', 'N']\n",
      "Encoded symbol: [[1. 0. 0. 0.]\n",
      " [0. 1. 0. 0.]\n",
      " [0. 0. 1. 0.]\n",
      " [0. 0. 0. 1.]]\n",
      "classes: ['EI', 'N', 'IE']\n",
      "Encoded classes: [[1. 0. 0.]\n",
      " [0. 1. 0.]\n",
      " [0. 0. 1.]]\n"
     ]
    }
   ],
   "source": [
    "# creating one hot encoded values for each class in y\n",
    "classes = list(set(y))\n",
    "encoded_y = tf.one_hot(range(len(classes)), depth=len(classes))\n",
    "\n",
    "# creating one hot encoded values for each symbol in x\n",
    "primary_symbols = ['A', 'G', 'C', 'T']\n",
    "derived_symbols = ['D', 'S', 'R', 'N']\n",
    "symbols = primary_symbols + derived_symbols\n",
    "\n",
    "## symbol representing equal probability of primary symbols occurence\n",
    "symbol_occ_map = {\n",
    "    'D': ['A', 'G', 'T'],\n",
    "    'S': ['C', 'G'],\n",
    "    'R': ['A', 'G'],\n",
    "    'N': ['A', 'G', 'C', 'T']\n",
    "}\n",
    "\n",
    "encoded_sym = tf.one_hot(range(len(primary_symbols)), depth=len(primary_symbols))\n",
    "\n",
    "symbol_map = {sym:encoded_sym[idx] for idx, sym in enumerate(primary_symbols)}\n",
    "\n",
    "for sym in derived_symbols:\n",
    "  symbol_map[sym] = np.sum([symbol_map[p_sym] for p_sym in symbol_occ_map[sym]], axis=0)\n",
    "\n",
    "for sym in symbols:\n",
    "    print(f\"{sym} -> {symbol_map[sym]}\")\n",
    "\n",
    "# mapping class/symbol names to their hot encoded values\n",
    "class_map = {class_:encoded_y[idx] for idx, class_ in enumerate(classes)}\n",
    "\n",
    "\n",
    "print(f\"symbols: {symbols}\")\n",
    "print(f\"Encoded symbol: {encoded_sym}\")\n",
    "\n",
    "print(f\"classes: {classes}\")\n",
    "print(f\"Encoded classes: {encoded_y}\")"
   ]
  },
  {
   "cell_type": "code",
   "execution_count": null,
   "metadata": {
    "id": "tpklab0KAvbi"
   },
   "outputs": [],
   "source": [
    "# to get symbol representation of sequence from one hot encoded values\n",
    "to_symbol = lambda hot_encoded: \"\".join([symbols[idx] for idx in tf.argmax(hot_encoded, axis=1)])\n",
    "\n",
    "\n",
    "def test_same(sample_val):\n",
    "  sample_val = x[1293]\n",
    "  sample_encoded = [symbol_map[char] for char in sample_val]\n",
    "  reversed = to_symbol(sample_encoded)\n",
    "  return sample_val == reversed\n",
    "\n",
    "# for xs in x:\n",
    "#   r = test_same(xs)\n",
    "#   if r is False:\n",
    "#     print(r)"
   ]
  },
  {
   "cell_type": "code",
   "execution_count": null,
   "metadata": {
    "colab": {
     "base_uri": "https://localhost:8080/"
    },
    "id": "ysxFQk-1ruho",
    "outputId": "5b249e3a-a5b4-49ac-a1b8-69463171e601"
   },
   "outputs": [
    {
     "name": "stdout",
     "output_type": "stream",
     "text": [
      "X : (3190, 60, 4)\n",
      "Y : (3190, 3)\n"
     ]
    }
   ],
   "source": [
    "X = np.array([[symbol_map[char] for char in sequence] for sequence in x])\n",
    "Y = np.array([class_map[class_] for class_ in y])\n",
    "print(f\"X : {X.shape}\")\n",
    "print(f\"Y : {Y.shape}\")"
   ]
  },
  {
   "cell_type": "code",
   "execution_count": null,
   "metadata": {
    "colab": {
     "base_uri": "https://localhost:8080/"
    },
    "id": "bu1tM6uUsPFt",
    "outputId": "de9ec344-2441-4102-fb50-0765911166ef"
   },
   "outputs": [
    {
     "name": "stdout",
     "output_type": "stream",
     "text": [
      "Train X : (2552, 60, 4)\n",
      "Test X : (638, 60, 4)\n",
      "Train Y : (2552, 3)\n",
      "Test Y : (638, 3)\n"
     ]
    }
   ],
   "source": [
    "# splitting data into train, test\n",
    "train_x, test_x, train_y, test_y = train_test_split(X, Y, test_size=0.2, random_state=21)\n",
    "print(f\"Train X : {train_x.shape}\")\n",
    "print(f\"Test X : {test_x.shape}\")\n",
    "print(f\"Train Y : {train_y.shape}\")\n",
    "print(f\"Test Y : {test_y.shape}\")\n"
   ]
  },
  {
   "cell_type": "code",
   "execution_count": null,
   "metadata": {
    "colab": {
     "base_uri": "https://localhost:8080/"
    },
    "id": "GyNLMdrWESGx",
    "outputId": "8313a918-35ae-462b-d49c-b166c2a34124"
   },
   "outputs": [
    {
     "name": "stdout",
     "output_type": "stream",
     "text": [
      "Model: \"sequential_3\"\n",
      "_________________________________________________________________\n",
      "Layer (type)                 Output Shape              Param #   \n",
      "=================================================================\n",
      "lstm_46 (LSTM)               (None, 100)               42000     \n",
      "_________________________________________________________________\n",
      "dense_26 (Dense)             (None, 3)                 303       \n",
      "=================================================================\n",
      "Total params: 42,303\n",
      "Trainable params: 42,303\n",
      "Non-trainable params: 0\n",
      "_________________________________________________________________\n"
     ]
    }
   ],
   "source": [
    "# LSTM cell\n",
    "from tensorflow.keras.layers import Input, LSTM, Dense\n",
    "from tensorflow.keras.models import Model, Sequential\n",
    "\n",
    "\n",
    "batch_size = 32\n",
    "time_steps = 60\n",
    "features = 4\n",
    "input_features = 4\n",
    "output_features = 3\n",
    "\n",
    "model = Sequential()\n",
    "model.add(LSTM(100, input_shape=(time_steps, input_features)))\n",
    "model.add(Dense(3, activation='sigmoid'))\n",
    "model.compile(loss=\"categorical_crossentropy\", optimizer=\"adam\", metrics= ['accuracy'])\n",
    "\n",
    "model.summary()"
   ]
  },
  {
   "cell_type": "code",
   "execution_count": null,
   "metadata": {
    "colab": {
     "base_uri": "https://localhost:8080/"
    },
    "id": "OsgaxYVZNbEc",
    "outputId": "478f852c-468d-46ea-bfd9-ddc9f2ec3f58"
   },
   "outputs": [
    {
     "name": "stdout",
     "output_type": "stream",
     "text": [
      "Epoch 1/100\n",
      "80/80 [==============================] - 6s 50ms/step - loss: 1.0072 - accuracy: 0.5168 - val_loss: 0.9907 - val_accuracy: 0.5204\n",
      "Epoch 2/100\n",
      "80/80 [==============================] - 4s 45ms/step - loss: 0.8399 - accuracy: 0.6034 - val_loss: 0.8083 - val_accuracy: 0.6191\n",
      "Epoch 3/100\n",
      "80/80 [==============================] - 4s 45ms/step - loss: 0.7581 - accuracy: 0.6458 - val_loss: 0.7545 - val_accuracy: 0.6552\n",
      "Epoch 4/100\n",
      "80/80 [==============================] - 4s 46ms/step - loss: 0.7358 - accuracy: 0.6740 - val_loss: 0.7454 - val_accuracy: 0.6567\n",
      "Epoch 5/100\n",
      "80/80 [==============================] - 4s 45ms/step - loss: 0.7033 - accuracy: 0.6900 - val_loss: 0.6526 - val_accuracy: 0.7116\n",
      "Epoch 6/100\n",
      "80/80 [==============================] - 4s 45ms/step - loss: 0.6753 - accuracy: 0.7045 - val_loss: 0.6598 - val_accuracy: 0.7116\n",
      "Epoch 7/100\n",
      "80/80 [==============================] - 4s 45ms/step - loss: 0.6481 - accuracy: 0.7190 - val_loss: 0.6212 - val_accuracy: 0.7304\n",
      "Epoch 8/100\n",
      "80/80 [==============================] - 4s 45ms/step - loss: 0.6268 - accuracy: 0.7277 - val_loss: 0.5930 - val_accuracy: 0.7257\n",
      "Epoch 9/100\n",
      "80/80 [==============================] - 4s 46ms/step - loss: 0.6106 - accuracy: 0.7351 - val_loss: 0.6349 - val_accuracy: 0.7304\n",
      "Epoch 10/100\n",
      "80/80 [==============================] - 4s 45ms/step - loss: 0.5951 - accuracy: 0.7437 - val_loss: 0.6261 - val_accuracy: 0.7288\n",
      "Epoch 11/100\n",
      "80/80 [==============================] - 4s 45ms/step - loss: 0.5916 - accuracy: 0.7473 - val_loss: 0.5792 - val_accuracy: 0.7571\n",
      "Epoch 12/100\n",
      "80/80 [==============================] - 4s 45ms/step - loss: 0.5632 - accuracy: 0.7606 - val_loss: 0.5512 - val_accuracy: 0.7649\n",
      "Epoch 13/100\n",
      "80/80 [==============================] - 4s 45ms/step - loss: 0.5564 - accuracy: 0.7676 - val_loss: 0.6300 - val_accuracy: 0.7398\n",
      "Epoch 14/100\n",
      "80/80 [==============================] - 4s 46ms/step - loss: 0.5359 - accuracy: 0.7766 - val_loss: 0.5757 - val_accuracy: 0.7602\n",
      "Epoch 15/100\n",
      "80/80 [==============================] - 4s 46ms/step - loss: 0.5071 - accuracy: 0.7786 - val_loss: 0.5290 - val_accuracy: 0.7618\n",
      "Epoch 16/100\n",
      "80/80 [==============================] - 4s 47ms/step - loss: 0.4919 - accuracy: 0.7927 - val_loss: 0.5224 - val_accuracy: 0.7900\n",
      "Epoch 17/100\n",
      "80/80 [==============================] - 4s 46ms/step - loss: 0.4890 - accuracy: 0.7892 - val_loss: 0.4918 - val_accuracy: 0.8056\n",
      "Epoch 18/100\n",
      "80/80 [==============================] - 4s 45ms/step - loss: 0.4530 - accuracy: 0.8088 - val_loss: 0.4987 - val_accuracy: 0.7947\n",
      "Epoch 19/100\n",
      "80/80 [==============================] - 4s 46ms/step - loss: 0.4601 - accuracy: 0.8060 - val_loss: 0.4394 - val_accuracy: 0.8119\n",
      "Epoch 20/100\n",
      "80/80 [==============================] - 4s 45ms/step - loss: 0.4513 - accuracy: 0.8103 - val_loss: 0.4249 - val_accuracy: 0.8307\n",
      "Epoch 21/100\n",
      "80/80 [==============================] - 4s 45ms/step - loss: 0.4221 - accuracy: 0.8292 - val_loss: 0.3682 - val_accuracy: 0.8558\n",
      "Epoch 22/100\n",
      "80/80 [==============================] - 4s 45ms/step - loss: 0.3839 - accuracy: 0.8480 - val_loss: 0.3663 - val_accuracy: 0.8417\n",
      "Epoch 23/100\n",
      "80/80 [==============================] - 4s 45ms/step - loss: 0.3766 - accuracy: 0.8476 - val_loss: 0.3126 - val_accuracy: 0.8777\n",
      "Epoch 24/100\n",
      "80/80 [==============================] - 4s 45ms/step - loss: 0.3303 - accuracy: 0.8730 - val_loss: 0.3122 - val_accuracy: 0.8793\n",
      "Epoch 25/100\n",
      "80/80 [==============================] - 4s 46ms/step - loss: 0.3466 - accuracy: 0.8691 - val_loss: 0.3162 - val_accuracy: 0.8730\n",
      "Epoch 26/100\n",
      "80/80 [==============================] - 3s 43ms/step - loss: 0.3024 - accuracy: 0.8918 - val_loss: 0.2646 - val_accuracy: 0.9060\n",
      "Epoch 27/100\n",
      "80/80 [==============================] - 3s 43ms/step - loss: 0.2849 - accuracy: 0.8938 - val_loss: 0.2832 - val_accuracy: 0.8918\n",
      "Epoch 28/100\n",
      "80/80 [==============================] - 4s 44ms/step - loss: 0.2748 - accuracy: 0.9024 - val_loss: 0.2693 - val_accuracy: 0.9013\n",
      "Epoch 29/100\n",
      "80/80 [==============================] - 4s 45ms/step - loss: 0.2574 - accuracy: 0.9040 - val_loss: 0.2720 - val_accuracy: 0.8934\n",
      "Epoch 30/100\n",
      "80/80 [==============================] - 4s 44ms/step - loss: 0.2586 - accuracy: 0.9040 - val_loss: 0.2880 - val_accuracy: 0.8966\n",
      "Epoch 31/100\n",
      "80/80 [==============================] - 4s 46ms/step - loss: 0.2517 - accuracy: 0.9071 - val_loss: 0.2825 - val_accuracy: 0.8997\n",
      "Epoch 32/100\n",
      "80/80 [==============================] - 4s 45ms/step - loss: 0.2194 - accuracy: 0.9165 - val_loss: 0.3268 - val_accuracy: 0.8809\n",
      "Epoch 33/100\n",
      "80/80 [==============================] - 4s 45ms/step - loss: 0.2587 - accuracy: 0.9040 - val_loss: 0.3228 - val_accuracy: 0.8683\n",
      "Epoch 34/100\n",
      "80/80 [==============================] - 4s 45ms/step - loss: 0.2222 - accuracy: 0.9197 - val_loss: 0.2502 - val_accuracy: 0.9107\n",
      "Epoch 35/100\n",
      "80/80 [==============================] - 4s 45ms/step - loss: 0.2129 - accuracy: 0.9248 - val_loss: 0.2534 - val_accuracy: 0.9091\n",
      "Epoch 36/100\n",
      "80/80 [==============================] - 4s 46ms/step - loss: 0.1841 - accuracy: 0.9291 - val_loss: 0.2462 - val_accuracy: 0.9122\n",
      "Epoch 37/100\n",
      "80/80 [==============================] - 4s 45ms/step - loss: 0.1806 - accuracy: 0.9377 - val_loss: 0.2274 - val_accuracy: 0.9075\n",
      "Epoch 38/100\n",
      "80/80 [==============================] - 4s 45ms/step - loss: 0.1806 - accuracy: 0.9346 - val_loss: 0.2450 - val_accuracy: 0.9185\n",
      "Epoch 39/100\n",
      "80/80 [==============================] - 4s 45ms/step - loss: 0.1831 - accuracy: 0.9350 - val_loss: 0.2202 - val_accuracy: 0.9263\n",
      "Epoch 40/100\n",
      "80/80 [==============================] - 4s 46ms/step - loss: 0.1547 - accuracy: 0.9471 - val_loss: 0.2661 - val_accuracy: 0.9060\n",
      "Epoch 41/100\n",
      "80/80 [==============================] - 4s 44ms/step - loss: 0.1558 - accuracy: 0.9447 - val_loss: 0.2361 - val_accuracy: 0.9201\n",
      "Epoch 42/100\n",
      "80/80 [==============================] - 4s 46ms/step - loss: 0.1374 - accuracy: 0.9522 - val_loss: 0.2562 - val_accuracy: 0.9169\n",
      "Epoch 43/100\n",
      "80/80 [==============================] - 4s 44ms/step - loss: 0.1523 - accuracy: 0.9502 - val_loss: 0.2314 - val_accuracy: 0.9122\n",
      "Epoch 44/100\n",
      "80/80 [==============================] - 4s 45ms/step - loss: 0.1562 - accuracy: 0.9424 - val_loss: 0.2574 - val_accuracy: 0.9122\n",
      "Epoch 45/100\n",
      "80/80 [==============================] - 4s 47ms/step - loss: 0.1379 - accuracy: 0.9534 - val_loss: 0.2531 - val_accuracy: 0.9154\n",
      "Epoch 46/100\n",
      "80/80 [==============================] - 4s 46ms/step - loss: 0.1447 - accuracy: 0.9487 - val_loss: 0.2403 - val_accuracy: 0.9169\n",
      "Epoch 47/100\n",
      "80/80 [==============================] - 4s 46ms/step - loss: 0.1229 - accuracy: 0.9581 - val_loss: 0.2002 - val_accuracy: 0.9420\n",
      "Epoch 48/100\n",
      "80/80 [==============================] - 4s 47ms/step - loss: 0.1203 - accuracy: 0.9565 - val_loss: 0.2105 - val_accuracy: 0.9357\n",
      "Epoch 49/100\n",
      "80/80 [==============================] - 4s 46ms/step - loss: 0.1259 - accuracy: 0.9569 - val_loss: 0.2239 - val_accuracy: 0.9279\n",
      "Epoch 50/100\n",
      "80/80 [==============================] - 4s 45ms/step - loss: 0.1214 - accuracy: 0.9526 - val_loss: 0.2353 - val_accuracy: 0.9279\n",
      "Epoch 51/100\n",
      "80/80 [==============================] - 4s 47ms/step - loss: 0.1312 - accuracy: 0.9526 - val_loss: 0.2379 - val_accuracy: 0.9248\n",
      "Epoch 52/100\n",
      "80/80 [==============================] - 4s 46ms/step - loss: 0.1227 - accuracy: 0.9573 - val_loss: 0.2088 - val_accuracy: 0.9310\n",
      "Epoch 53/100\n",
      "80/80 [==============================] - 4s 47ms/step - loss: 0.0985 - accuracy: 0.9628 - val_loss: 0.2994 - val_accuracy: 0.9013\n",
      "Epoch 54/100\n",
      "80/80 [==============================] - 4s 47ms/step - loss: 0.1332 - accuracy: 0.9514 - val_loss: 0.2436 - val_accuracy: 0.9263\n",
      "Epoch 55/100\n",
      "80/80 [==============================] - 4s 48ms/step - loss: 0.1063 - accuracy: 0.9604 - val_loss: 0.2750 - val_accuracy: 0.9138\n",
      "Epoch 56/100\n",
      "80/80 [==============================] - 4s 48ms/step - loss: 0.1021 - accuracy: 0.9636 - val_loss: 0.2586 - val_accuracy: 0.9185\n",
      "Epoch 57/100\n",
      "80/80 [==============================] - 4s 47ms/step - loss: 0.0861 - accuracy: 0.9694 - val_loss: 0.2927 - val_accuracy: 0.9138\n",
      "Epoch 58/100\n",
      "80/80 [==============================] - 4s 46ms/step - loss: 0.0787 - accuracy: 0.9718 - val_loss: 0.2897 - val_accuracy: 0.9295\n",
      "Epoch 59/100\n",
      "80/80 [==============================] - 4s 47ms/step - loss: 0.0815 - accuracy: 0.9690 - val_loss: 0.2365 - val_accuracy: 0.9342\n",
      "Epoch 60/100\n",
      "80/80 [==============================] - 4s 46ms/step - loss: 0.0577 - accuracy: 0.9800 - val_loss: 0.2611 - val_accuracy: 0.9279\n",
      "Epoch 61/100\n",
      "80/80 [==============================] - 4s 45ms/step - loss: 0.0641 - accuracy: 0.9773 - val_loss: 0.2276 - val_accuracy: 0.9389\n",
      "Epoch 62/100\n",
      "80/80 [==============================] - 4s 45ms/step - loss: 0.1034 - accuracy: 0.9667 - val_loss: 0.2670 - val_accuracy: 0.9169\n",
      "Epoch 63/100\n",
      "80/80 [==============================] - 4s 45ms/step - loss: 0.0819 - accuracy: 0.9737 - val_loss: 0.2766 - val_accuracy: 0.9091\n",
      "Epoch 64/100\n",
      "80/80 [==============================] - 4s 46ms/step - loss: 0.0798 - accuracy: 0.9734 - val_loss: 0.3058 - val_accuracy: 0.9091\n",
      "Epoch 65/100\n",
      "80/80 [==============================] - 4s 45ms/step - loss: 0.0743 - accuracy: 0.9726 - val_loss: 0.2962 - val_accuracy: 0.9310\n",
      "Epoch 66/100\n",
      "80/80 [==============================] - 4s 46ms/step - loss: 0.0754 - accuracy: 0.9722 - val_loss: 0.2722 - val_accuracy: 0.9232\n",
      "Epoch 67/100\n",
      "80/80 [==============================] - 4s 46ms/step - loss: 0.0647 - accuracy: 0.9734 - val_loss: 0.2658 - val_accuracy: 0.9326\n",
      "Epoch 68/100\n",
      "80/80 [==============================] - 4s 46ms/step - loss: 0.0742 - accuracy: 0.9714 - val_loss: 0.3182 - val_accuracy: 0.9028\n",
      "Epoch 69/100\n",
      "80/80 [==============================] - 4s 46ms/step - loss: 0.0773 - accuracy: 0.9710 - val_loss: 0.2888 - val_accuracy: 0.9232\n",
      "Epoch 70/100\n",
      "80/80 [==============================] - 4s 46ms/step - loss: 0.0870 - accuracy: 0.9694 - val_loss: 0.2890 - val_accuracy: 0.9279\n",
      "Epoch 71/100\n",
      "80/80 [==============================] - 4s 47ms/step - loss: 0.0625 - accuracy: 0.9788 - val_loss: 0.2672 - val_accuracy: 0.9326\n",
      "Epoch 72/100\n",
      "80/80 [==============================] - 4s 46ms/step - loss: 0.0380 - accuracy: 0.9871 - val_loss: 0.3052 - val_accuracy: 0.9310\n",
      "Epoch 73/100\n",
      "80/80 [==============================] - 4s 46ms/step - loss: 0.0325 - accuracy: 0.9886 - val_loss: 0.2849 - val_accuracy: 0.9389\n",
      "Epoch 74/100\n",
      "80/80 [==============================] - 4s 46ms/step - loss: 0.0547 - accuracy: 0.9832 - val_loss: 0.3428 - val_accuracy: 0.9122\n",
      "Epoch 75/100\n",
      "80/80 [==============================] - 4s 47ms/step - loss: 0.1022 - accuracy: 0.9624 - val_loss: 0.2895 - val_accuracy: 0.9185\n",
      "Epoch 76/100\n",
      "80/80 [==============================] - 4s 47ms/step - loss: 0.0366 - accuracy: 0.9882 - val_loss: 0.3259 - val_accuracy: 0.9279\n",
      "Epoch 77/100\n",
      "80/80 [==============================] - 4s 46ms/step - loss: 0.0325 - accuracy: 0.9886 - val_loss: 0.2343 - val_accuracy: 0.9326\n",
      "Epoch 78/100\n",
      "80/80 [==============================] - 4s 46ms/step - loss: 0.0396 - accuracy: 0.9867 - val_loss: 0.3974 - val_accuracy: 0.9091\n",
      "Epoch 79/100\n",
      "80/80 [==============================] - 4s 46ms/step - loss: 0.0967 - accuracy: 0.9651 - val_loss: 0.2567 - val_accuracy: 0.9279\n",
      "Epoch 80/100\n",
      "80/80 [==============================] - 4s 47ms/step - loss: 0.0553 - accuracy: 0.9816 - val_loss: 0.2584 - val_accuracy: 0.9326\n",
      "Epoch 81/100\n",
      "80/80 [==============================] - 4s 46ms/step - loss: 0.0461 - accuracy: 0.9839 - val_loss: 0.3773 - val_accuracy: 0.9060\n",
      "Epoch 82/100\n",
      "80/80 [==============================] - 4s 46ms/step - loss: 0.0413 - accuracy: 0.9839 - val_loss: 0.3133 - val_accuracy: 0.9216\n",
      "Epoch 83/100\n",
      "80/80 [==============================] - 4s 46ms/step - loss: 0.0197 - accuracy: 0.9941 - val_loss: 0.3817 - val_accuracy: 0.9138\n",
      "Epoch 84/100\n",
      "80/80 [==============================] - 4s 46ms/step - loss: 0.0180 - accuracy: 0.9945 - val_loss: 0.3422 - val_accuracy: 0.9232\n",
      "Epoch 85/100\n",
      "80/80 [==============================] - 4s 47ms/step - loss: 0.0193 - accuracy: 0.9953 - val_loss: 0.3057 - val_accuracy: 0.9279\n",
      "Epoch 86/100\n",
      "80/80 [==============================] - 4s 46ms/step - loss: 0.0297 - accuracy: 0.9929 - val_loss: 0.3278 - val_accuracy: 0.9326\n",
      "Epoch 87/100\n",
      "80/80 [==============================] - 4s 46ms/step - loss: 0.0137 - accuracy: 0.9957 - val_loss: 0.3627 - val_accuracy: 0.9295\n",
      "Epoch 88/100\n",
      "80/80 [==============================] - 4s 47ms/step - loss: 0.0472 - accuracy: 0.9859 - val_loss: 0.3627 - val_accuracy: 0.9028\n",
      "Epoch 89/100\n",
      "80/80 [==============================] - 4s 45ms/step - loss: 0.0732 - accuracy: 0.9745 - val_loss: 0.3033 - val_accuracy: 0.9201\n",
      "Epoch 90/100\n",
      "80/80 [==============================] - 4s 46ms/step - loss: 0.0312 - accuracy: 0.9894 - val_loss: 0.2911 - val_accuracy: 0.9326\n",
      "Epoch 91/100\n",
      "80/80 [==============================] - 4s 47ms/step - loss: 0.0306 - accuracy: 0.9910 - val_loss: 0.3511 - val_accuracy: 0.9310\n",
      "Epoch 92/100\n",
      "80/80 [==============================] - 4s 46ms/step - loss: 0.0097 - accuracy: 0.9980 - val_loss: 0.3497 - val_accuracy: 0.9326\n",
      "Epoch 93/100\n",
      "80/80 [==============================] - 4s 46ms/step - loss: 0.0376 - accuracy: 0.9855 - val_loss: 0.3335 - val_accuracy: 0.9232\n",
      "Epoch 94/100\n",
      "80/80 [==============================] - 4s 46ms/step - loss: 0.0950 - accuracy: 0.9687 - val_loss: 0.2907 - val_accuracy: 0.9122\n",
      "Epoch 95/100\n",
      "80/80 [==============================] - 4s 45ms/step - loss: 0.0522 - accuracy: 0.9816 - val_loss: 0.3585 - val_accuracy: 0.9216\n",
      "Epoch 96/100\n",
      "80/80 [==============================] - 4s 46ms/step - loss: 0.0269 - accuracy: 0.9926 - val_loss: 0.2859 - val_accuracy: 0.9404\n",
      "Epoch 97/100\n",
      "80/80 [==============================] - 4s 46ms/step - loss: 0.0206 - accuracy: 0.9926 - val_loss: 0.3298 - val_accuracy: 0.9279\n",
      "Epoch 98/100\n",
      "80/80 [==============================] - 4s 48ms/step - loss: 0.0142 - accuracy: 0.9965 - val_loss: 0.3692 - val_accuracy: 0.9295\n",
      "Epoch 99/100\n",
      "80/80 [==============================] - 4s 45ms/step - loss: 0.0141 - accuracy: 0.9965 - val_loss: 0.4126 - val_accuracy: 0.9216\n",
      "Epoch 100/100\n",
      "80/80 [==============================] - 4s 45ms/step - loss: 0.0193 - accuracy: 0.9933 - val_loss: 0.4067 - val_accuracy: 0.9310\n"
     ]
    }
   ],
   "source": [
    "history = model.fit(x=train_x, y=train_y, batch_size=batch_size, validation_data=(test_x,test_y), epochs=100, verbose='auto')\n",
    "print(history.history.keys())"
   ]
  },
  {
   "cell_type": "code",
   "execution_count": null,
   "metadata": {
    "colab": {
     "base_uri": "https://localhost:8080/"
    },
    "id": "8QBpdzfv1AZV",
    "outputId": "353e0922-413b-4c98-8145-2f9d9e34eceb"
   },
   "outputs": [
    {
     "name": "stdout",
     "output_type": "stream",
     "text": [
      "dict_keys(['loss', 'accuracy', 'val_loss', 'val_accuracy'])\n"
     ]
    }
   ],
   "source": [
    "print(history.history.keys())\n",
    "data = history.history"
   ]
  },
  {
   "cell_type": "code",
   "execution_count": null,
   "metadata": {
    "colab": {
     "base_uri": "https://localhost:8080/",
     "height": 314
    },
    "id": "IrWRbs8r_Esy",
    "outputId": "ab1f7f6f-a76f-4931-c72a-35bbdc18480e"
   },
   "outputs": [
    {
     "name": "stdout",
     "output_type": "stream",
     "text": [
      "Final Train Acc = 0.9933385848999023\n",
      "Final Test Acc = 0.931034505367279\n"
     ]
    },
    {
     "data": {
      "image/png": "[encoded data removed]",
      "text/plain": [
       "<Figure size 432x288 with 1 Axes>"
      ]
     },
     "metadata": {
      "needs_background": "light",
      "tags": []
     },
     "output_type": "display_data"
    }
   ],
   "source": [
    "print(f\"Final Train Acc = {data['accuracy'][-1]}\")\n",
    "print(f\"Final Test Acc = {data['val_accuracy'][-1]}\")\n",
    "plot([data['accuracy'], data['val_accuracy']], ['Train Acc.', 'Test Acc.'], x_label='EPOCHS', y_label='Accuracy')"
   ]
  },
  {
   "cell_type": "code",
   "execution_count": null,
   "metadata": {
    "colab": {
     "base_uri": "https://localhost:8080/",
     "height": 314
    },
    "id": "4A6fsQDb_Cip",
    "outputId": "faf4f544-cbc6-4092-c96c-b91b8fe56d36"
   },
   "outputs": [
    {
     "name": "stdout",
     "output_type": "stream",
     "text": [
      "Final Train Loss = 0.01927228644490242\n",
      "Final Test Loss = 0.40665125846862793\n"
     ]
    },
    {
     "data": {
      "image/png": "[encoded data removed]",
      "text/plain": [
       "<Figure size 432x288 with 1 Axes>"
      ]
     },
     "metadata": {
      "needs_background": "light",
      "tags": []
     },
     "output_type": "display_data"
    }
   ],
   "source": [
    "print(f\"Final Train Loss = {data['loss'][-1]}\")\n",
    "print(f\"Final Test Loss = {data['val_loss'][-1]}\")\n",
    "plot([data['loss'], data['val_loss']], ['Train Loss', 'Test Loss'], x_label='EPOCHS', y_label='LOSS')"
   ]
  },
  {
   "cell_type": "code",
   "execution_count": null,
   "metadata": {
    "id": "fML2jYbvCdvi"
   },
   "outputs": [],
   "source": []
  }
 ],
 "metadata": {
  "colab": {
   "collapsed_sections": [],
   "name": "EIJ Classification.ipynb",
   "provenance": []
  },
  "kernelspec": {
   "display_name": "Python 3",
   "language": "python",
   "name": "python3"
  },
  "language_info": {
   "codemirror_mode": {
    "name": "ipython",
    "version": 3
   },
   "file_extension": ".py",
   "mimetype": "text/x-python",
   "name": "python",
   "nbconvert_exporter": "python",
   "pygments_lexer": "ipython3",
   "version": "3.6.9"
  }
 },
 "nbformat": 4,
 "nbformat_minor": 1
}
